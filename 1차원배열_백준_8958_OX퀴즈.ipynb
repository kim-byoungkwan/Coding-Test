{
 "cells": [
  {
   "cell_type": "code",
   "execution_count": 31,
   "metadata": {},
   "outputs": [
    {
     "name": "stdout",
     "output_type": "stream",
     "text": [
      "5\n",
      "OOXXOXXOOO\n",
      "OOXXOOXXOO\n",
      "OXOXOXOXOXOX\n",
      "OOOOOOOOOO\n",
      "OOOOXOOOOXOOOOX\n",
      "10\n",
      "9\n",
      "6\n",
      "55\n",
      "30\n"
     ]
    }
   ],
   "source": [
    "n = int(input())\n",
    "\n",
    "count = 1\n",
    "\n",
    "box = []\n",
    "\n",
    "num = 0\n",
    "\n",
    "case = []\n",
    "\n",
    "for k in range(n):\n",
    "    \n",
    "    case.append(input())\n",
    "\n",
    "\n",
    "for x in range(n):\n",
    "    \n",
    "    for i in range(len(case[x])-1):\n",
    "\n",
    "        if case[x][i] == \"O\":    \n",
    "\n",
    "            if case[x][i] == case[x][i+1]:\n",
    "\n",
    "                count = count + 1\n",
    "\n",
    "                if i == len(case[x])-2:\n",
    "\n",
    "                    box.append(count)\n",
    "\n",
    "                else:\n",
    "\n",
    "                    continue\n",
    "\n",
    "            else:\n",
    "\n",
    "                box.append(count)\n",
    "\n",
    "                count = 1\n",
    "\n",
    "                continue\n",
    "\n",
    "        else:\n",
    "\n",
    "            continue    \n",
    "\n",
    "    for q in range(len(box)):\n",
    "\n",
    "        for p in range(1,box[q]+1):\n",
    "\n",
    "            num = num + p\n",
    "\n",
    "    print(num)\n",
    "\n",
    "    num = 0\n",
    "\n",
    "    count = 1\n",
    "\n",
    "    box = []\n"
   ]
  }
 ],
 "metadata": {
  "kernelspec": {
   "display_name": "Python 3",
   "language": "python",
   "name": "python3"
  },
  "language_info": {
   "codemirror_mode": {
    "name": "ipython",
    "version": 3
   },
   "file_extension": ".py",
   "mimetype": "text/x-python",
   "name": "python",
   "nbconvert_exporter": "python",
   "pygments_lexer": "ipython3",
   "version": "3.8.3"
  }
 },
 "nbformat": 4,
 "nbformat_minor": 4
}
