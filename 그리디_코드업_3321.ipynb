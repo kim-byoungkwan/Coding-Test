{
 "cells": [
  {
   "cell_type": "code",
   "execution_count": 1,
   "metadata": {},
   "outputs": [
    {
     "name": "stdout",
     "output_type": "stream",
     "text": [
      "3\n",
      "12 2\n",
      "200\n",
      "50\n",
      "300\n",
      "100\n",
      "36\n"
     ]
    }
   ],
   "source": [
    "topping_num =int(input()) # 불변\n",
    "\n",
    "dow_price,topping_price = input().split() # 불변\n",
    " \n",
    "dow_price = int(dow_price) # 불변\n",
    "topping_price = int(topping_price) # 불변\n",
    "\n",
    "\n",
    "dow_callolies = int(input()) # 불변\n",
    "\n",
    "sum_callolies = 0 + dow_callolies # 최초값\n",
    "\n",
    "sum_price = dow_price + topping_price*topping_num # 불변\n",
    "\n",
    "\n",
    "\n",
    "\n",
    "\n",
    "for i in range(topping_num):\n",
    "    topping_callolies_i = int(input())\n",
    "    sum_callolies = sum_callolies + topping_callolies_i\n",
    "\n",
    "\n",
    "print(int(sum_callolies/sum_price))\n",
    "    \n"
   ]
  }
 ],
 "metadata": {
  "kernelspec": {
   "display_name": "Python 3",
   "language": "python",
   "name": "python3"
  },
  "language_info": {
   "codemirror_mode": {
    "name": "ipython",
    "version": 3
   },
   "file_extension": ".py",
   "mimetype": "text/x-python",
   "name": "python",
   "nbconvert_exporter": "python",
   "pygments_lexer": "ipython3",
   "version": "3.8.3"
  }
 },
 "nbformat": 4,
 "nbformat_minor": 4
}
